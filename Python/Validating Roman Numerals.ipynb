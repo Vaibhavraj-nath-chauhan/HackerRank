{
 "cells": [
  {
   "cell_type": "markdown",
   "metadata": {},
   "source": [
    "##### Challenge Link -->                  https://www.hackerrank.com/challenges/validate-a-roman-number/problem"
   ]
  },
  {
   "cell_type": "code",
   "execution_count": null,
   "metadata": {},
   "outputs": [],
   "source": [
    "regex_pattern = 'rM{0,3}(C[MD]|D?C{0,3})(X[CL]|L?X{0,3})(I[VX]|V?I{0,3})$' # Do not delete 'r'.\n",
    "\n",
    "import re\n",
    "print(str(bool(re.match(regex_pattern, input()))))"
   ]
  },
  {
   "cell_type": "markdown",
   "metadata": {},
   "source": [
    "r'M{0,3}(C[MD]|D?C{0,3})(X[CL]|L?X{0,3})(I[VX]|V?I{0,3})$'\n",
    "\n",
    "Meaning -->\n",
    "1.  M{0,3} --> As question is asked for 3000 so first we check there is any M or not so we count M for 0 to 3<br>\n",
    "\n",
    "\n",
    "2. ( C[MD] | D?C{0,3} ) --> This line is for value 100 - 900 for first part its checking for 400 and 900 if not then its going                             for 100,200,300,500,600,700,800<br>\n",
    "\n",
    "\n",
    "3. ( X[CL] | L?X{0,3} ) --> This line is for value 10 - 90 for first part its checking for 40 and 90 if not then its going                                 for 10,20,30,50,60,70,80<br>\n",
    "\n",
    "\n",
    "4. ( I[VX] | V?I{0,3} ) --> This line is for value 1 - 9 for first part its checking for 4 and 9 if not then its going                                     for 1,2,3,5,6,7,8<br>\n",
    " \n"
   ]
  }
 ],
 "metadata": {
  "kernelspec": {
   "display_name": "Python 3",
   "language": "python",
   "name": "python3"
  },
  "language_info": {
   "codemirror_mode": {
    "name": "ipython",
    "version": 3
   },
   "file_extension": ".py",
   "mimetype": "text/x-python",
   "name": "python",
   "nbconvert_exporter": "python",
   "pygments_lexer": "ipython3",
   "version": "3.7.6"
  }
 },
 "nbformat": 4,
 "nbformat_minor": 4
}
