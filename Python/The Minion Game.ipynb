{
 "cells": [
  {
   "cell_type": "markdown",
   "metadata": {},
   "source": [
    "##### Challenge Link -->                       https://www.hackerrank.com/challenges/the-minion-game/problem"
   ]
  },
  {
   "cell_type": "code",
   "execution_count": null,
   "metadata": {},
   "outputs": [],
   "source": [
    "def minion_game(string):\n",
    "    # your code goes here\n",
    "    Kevin = 0\n",
    "    Stuart = 0\n",
    "    Sl = len(string)\n",
    "    for i in range(Sl):\n",
    "        if string[i] in [\"A\",\"E\",\"I\",\"O\",\"U\"]:\n",
    "            Kevin += Sl - i\n",
    "        else :\n",
    "            Stuart += Sl -i\n",
    "    if Kevin < Stuart:\n",
    "        print(\"Stuart\",Stuart)\n",
    "    elif Kevin > Stuart:\n",
    "        print(\"Kevin\",Kevin)\n",
    "    else:\n",
    "        print(\"Draw\")\n",
    "if __name__ == '__main__':\n",
    "    s = input()\n",
    "    minion_game(s)"
   ]
  }
 ],
 "metadata": {
  "kernelspec": {
   "display_name": "Python 3",
   "language": "python",
   "name": "python3"
  },
  "language_info": {
   "codemirror_mode": {
    "name": "ipython",
    "version": 3
   },
   "file_extension": ".py",
   "mimetype": "text/x-python",
   "name": "python",
   "nbconvert_exporter": "python",
   "pygments_lexer": "ipython3",
   "version": "3.7.6"
  }
 },
 "nbformat": 4,
 "nbformat_minor": 4
}
