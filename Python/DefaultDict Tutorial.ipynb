{
 "cells": [
  {
   "cell_type": "markdown",
   "metadata": {},
   "source": [
    "##### Challenge Link -->     https://www.hackerrank.com/challenges/defaultdict-tutorial/problem"
   ]
  },
  {
   "cell_type": "code",
   "execution_count": null,
   "metadata": {},
   "outputs": [],
   "source": [
    "n,m = list(map(int,input().split()))\n",
    "A,B = [input() for _ in range(n)],[input() for _ in range(m)] \n",
    "for _ in range(len(B)):\n",
    "    if B[_] in A:\n",
    "        for i in range(len(A)):\n",
    "            if B[_] == A[i]:\n",
    "                print(i+1,end=\" \")\n",
    "        print(\"\")\n",
    "    else:\n",
    "        print(-1)"
   ]
  }
 ],
 "metadata": {
  "kernelspec": {
   "display_name": "Python 3",
   "language": "python",
   "name": "python3"
  },
  "language_info": {
   "codemirror_mode": {
    "name": "ipython",
    "version": 3
   },
   "file_extension": ".py",
   "mimetype": "text/x-python",
   "name": "python",
   "nbconvert_exporter": "python",
   "pygments_lexer": "ipython3",
   "version": "3.7.6"
  }
 },
 "nbformat": 4,
 "nbformat_minor": 4
}
