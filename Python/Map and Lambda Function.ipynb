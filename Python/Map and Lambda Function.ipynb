{
 "cells": [
  {
   "cell_type": "markdown",
   "metadata": {},
   "source": [
    "##### Challenge Link -->        https://www.hackerrank.com/challenges/map-and-lambda-expression/problem"
   ]
  },
  {
   "cell_type": "code",
   "execution_count": null,
   "metadata": {},
   "outputs": [],
   "source": [
    "cube = lambda x: x**3\n",
    "\n",
    "def fibonacci(n):\n",
    "    lis = [0,1]\n",
    "    any(map(lambda _ :lis.append(sum(lis[-2:])),range(2,n)))\n",
    "    return lis[:n]\n",
    "\n",
    "if __name__ == '__main__':\n",
    "    n = int(input())\n",
    "    print(list(map(cube, fibonacci(n))))"
   ]
  }
 ],
 "metadata": {
  "kernelspec": {
   "display_name": "Python 3",
   "language": "python",
   "name": "python3"
  },
  "language_info": {
   "codemirror_mode": {
    "name": "ipython",
    "version": 3
   },
   "file_extension": ".py",
   "mimetype": "text/x-python",
   "name": "python",
   "nbconvert_exporter": "python",
   "pygments_lexer": "ipython3",
   "version": "3.7.6"
  }
 },
 "nbformat": 4,
 "nbformat_minor": 4
}
