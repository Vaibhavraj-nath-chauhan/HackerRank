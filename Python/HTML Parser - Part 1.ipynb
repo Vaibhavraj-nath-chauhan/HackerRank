{
 "cells": [
  {
   "cell_type": "markdown",
   "metadata": {},
   "source": [
    "##### Challenge Link -->                  https://www.hackerrank.com/challenges/html-parser-part-1/problem"
   ]
  },
  {
   "cell_type": "code",
   "execution_count": null,
   "metadata": {},
   "outputs": [],
   "source": [
    "from html.parser import HTMLParser\n",
    "\n",
    "class MyHTMLParser(HTMLParser):\n",
    "    #############################\n",
    "    def handle_starttag(self, tag, attrs):\n",
    "        print(\"Start :\", tag)\n",
    "        for i in attrs:\n",
    "            print(f\"-> {i[0]} > {i[1]}\")\n",
    "            \n",
    "    ############################        \n",
    "    def handle_endtag(self, tag):\n",
    "        print (\"End   :\", tag)\n",
    "        \n",
    "    ############################\n",
    "    def handle_startendtag(self, tag, attrs):\n",
    "        print (\"Empty :\", tag)\n",
    "        for i in attrs:\n",
    "            print(f\"-> {i[0]} > {i[1]}\")\n",
    "\n",
    "parser = MyHTMLParser()\n",
    "for i in range(int(input())):\n",
    "    parser.feed(input())"
   ]
  }
 ],
 "metadata": {
  "kernelspec": {
   "display_name": "Python 3",
   "language": "python",
   "name": "python3"
  },
  "language_info": {
   "codemirror_mode": {
    "name": "ipython",
    "version": 3
   },
   "file_extension": ".py",
   "mimetype": "text/x-python",
   "name": "python",
   "nbconvert_exporter": "python",
   "pygments_lexer": "ipython3",
   "version": "3.7.6"
  }
 },
 "nbformat": 4,
 "nbformat_minor": 4
}
