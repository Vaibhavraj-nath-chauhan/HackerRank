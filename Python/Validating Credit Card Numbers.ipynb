{
 "cells": [
  {
   "cell_type": "markdown",
   "metadata": {},
   "source": [
    "##### Challenge Link -->                       https://www.hackerrank.com/challenges/validating-credit-card-number/problem"
   ]
  },
  {
   "cell_type": "code",
   "execution_count": null,
   "metadata": {},
   "outputs": [],
   "source": [
    "import re\n",
    "def check(P):\n",
    "    check_1 = bool(re.match(r\"^[456]\\d{15}\",P))            #checking if number start with 456 and having 16 number\n",
    "    check_2 = bool(re.match(r\"^[456]\\d{3}\\-\\d{4}\\-\\d{4}\\-\\d{4}$\",P))      #checking number startwith 456 and have - and number\n",
    "    P = \"\".join(P.split(\"-\"))                      #removing our \" - \" from string for further process\n",
    "    check_3 = bool(re.search(r\"(\\d)\\1{3,}\",P))       #checking if any character reppets or not as \\1 is for repetation\n",
    "    if (check_1 or check_2) and not check_3:\n",
    "        return True\n",
    "    \n",
    "T = int(input())\n",
    "for i in range(T):\n",
    "    P = input()\n",
    "    if check(P):\n",
    "        print(\"Valid\")\n",
    "    else:\n",
    "        print(\"Invalid\")\n",
    "\n"
   ]
  }
 ],
 "metadata": {
  "kernelspec": {
   "display_name": "Python 3",
   "language": "python",
   "name": "python3"
  },
  "language_info": {
   "codemirror_mode": {
    "name": "ipython",
    "version": 3
   },
   "file_extension": ".py",
   "mimetype": "text/x-python",
   "name": "python",
   "nbconvert_exporter": "python",
   "pygments_lexer": "ipython3",
   "version": "3.7.6"
  }
 },
 "nbformat": 4,
 "nbformat_minor": 4
}
