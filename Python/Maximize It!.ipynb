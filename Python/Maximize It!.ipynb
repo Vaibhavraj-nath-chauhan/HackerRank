{
 "cells": [
  {
   "cell_type": "markdown",
   "metadata": {},
   "source": [
    "##### Challenge Link -->   https://www.hackerrank.com/challenges/maximize-it/problem"
   ]
  },
  {
   "cell_type": "code",
   "execution_count": null,
   "metadata": {},
   "outputs": [],
   "source": [
    "from itertools import product\n",
    "K,M = list(map(int,input().split()))\n",
    "n = []\n",
    "for i in range(K):\n",
    "    n.append(list(map(int,input().split()[1:])))\n",
    "pod = list(product(*n))\n",
    "n = []\n",
    "for i in pod:\n",
    "    def pwr(j):\n",
    "        return j**2\n",
    "    n.append(((sum(list(map(pwr,i))))%M))\n",
    "print(max(n))"
   ]
  }
 ],
 "metadata": {
  "kernelspec": {
   "display_name": "Python 3",
   "language": "python",
   "name": "python3"
  },
  "language_info": {
   "codemirror_mode": {
    "name": "ipython",
    "version": 3
   },
   "file_extension": ".py",
   "mimetype": "text/x-python",
   "name": "python",
   "nbconvert_exporter": "python",
   "pygments_lexer": "ipython3",
   "version": "3.7.6"
  }
 },
 "nbformat": 4,
 "nbformat_minor": 4
}
