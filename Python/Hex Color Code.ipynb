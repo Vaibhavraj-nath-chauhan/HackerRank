{
 "cells": [
  {
   "cell_type": "markdown",
   "metadata": {},
   "source": [
    "##### Challenge Link -->                  https://www.hackerrank.com/challenges/hex-color-code/problem"
   ]
  },
  {
   "cell_type": "code",
   "execution_count": null,
   "metadata": {},
   "outputs": [],
   "source": [
    "import re\n",
    "from collections import deque\n",
    "n =deque()\n",
    "for i in range(int(input())):\n",
    "    Chex  = input()\n",
    "    Ope = re.findall(r\"#[0-9A-Fa-f]{6}|#[0-9A-Fa-f]{3}\",Chex)\n",
    "    if Chex != None:\n",
    "        n +=Ope\n",
    "    if \".\" in Chex:\n",
    "        pass\n",
    "    elif \"{\" in Chex:\n",
    "        try:\n",
    "            n.pop()\n",
    "        except:pass\n",
    "print(*n,sep=\"\\n\")"
   ]
  }
 ],
 "metadata": {
  "kernelspec": {
   "display_name": "Python 3",
   "language": "python",
   "name": "python3"
  },
  "language_info": {
   "codemirror_mode": {
    "name": "ipython",
    "version": 3
   },
   "file_extension": ".py",
   "mimetype": "text/x-python",
   "name": "python",
   "nbconvert_exporter": "python",
   "pygments_lexer": "ipython3",
   "version": "3.7.6"
  }
 },
 "nbformat": 4,
 "nbformat_minor": 4
}
