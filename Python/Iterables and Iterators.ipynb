{
 "cells": [
  {
   "cell_type": "markdown",
   "metadata": {},
   "source": [
    "##### Challenge Link -->   https://www.hackerrank.com/challenges/iterables-and-iterators/problem"
   ]
  },
  {
   "cell_type": "code",
   "execution_count": null,
   "metadata": {},
   "outputs": [],
   "source": [
    "from itertools import combinations\n",
    "k = int(input())\n",
    "s = input().split()\n",
    "l = int(input())\n",
    "count = 0\n",
    "whole = 0\n",
    "for i in list(combinations(s,l)):\n",
    "    whole +=1\n",
    "    if \"a\" in i:\n",
    "        count +=1\n",
    "print(\"%.3f\"%(count/whole))"
   ]
  }
 ],
 "metadata": {
  "kernelspec": {
   "display_name": "Python 3",
   "language": "python",
   "name": "python3"
  },
  "language_info": {
   "codemirror_mode": {
    "name": "ipython",
    "version": 3
   },
   "file_extension": ".py",
   "mimetype": "text/x-python",
   "name": "python",
   "nbconvert_exporter": "python",
   "pygments_lexer": "ipython3",
   "version": "3.7.6"
  }
 },
 "nbformat": 4,
 "nbformat_minor": 4
}
