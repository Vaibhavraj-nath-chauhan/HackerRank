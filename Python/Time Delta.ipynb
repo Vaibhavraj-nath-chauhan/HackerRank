{
 "cells": [
  {
   "cell_type": "markdown",
   "metadata": {},
   "source": [
    "##### Challenge Link -->               https://www.hackerrank.com/challenges/python-time-delta/problem"
   ]
  },
  {
   "cell_type": "code",
   "execution_count": null,
   "metadata": {},
   "outputs": [],
   "source": [
    "import math\n",
    "import os\n",
    "import random\n",
    "import re\n",
    "import sys\n",
    "###################################################\n",
    "from datetime import datetime\n",
    "def time_delta(t1, t2):\n",
    "    t1 = datetime.strptime(t1, '%a %d %b %Y %H:%M:%S %z')\n",
    "    t2 = datetime.strptime(t2, '%a %d %b %Y %H:%M:%S %z')\n",
    "    return str(int(abs((t1-t2).total_seconds())))\n",
    "###################################################\n",
    "\n",
    "if __name__ == '__main__':\n",
    "    fptr = open(os.environ['OUTPUT_PATH'], 'w')\n",
    "\n",
    "    t = int(input())\n",
    "\n",
    "    for t_itr in range(t):\n",
    "        t1 = input()\n",
    "\n",
    "        t2 = input()\n",
    "\n",
    "        delta = time_delta(t1, t2)\n",
    "\n",
    "        fptr.write(delta + \"\\n\")\n",
    "\n",
    "    fptr.close()"
   ]
  },
  {
   "cell_type": "markdown",
   "metadata": {},
   "source": [
    "Refrence Website<br>\n",
    "https://www.programiz.com/python-programming/datetime/strptime"
   ]
  }
 ],
 "metadata": {
  "kernelspec": {
   "display_name": "Python 3",
   "language": "python",
   "name": "python3"
  },
  "language_info": {
   "codemirror_mode": {
    "name": "ipython",
    "version": 3
   },
   "file_extension": ".py",
   "mimetype": "text/x-python",
   "name": "python",
   "nbconvert_exporter": "python",
   "pygments_lexer": "ipython3",
   "version": "3.7.6"
  }
 },
 "nbformat": 4,
 "nbformat_minor": 4
}
