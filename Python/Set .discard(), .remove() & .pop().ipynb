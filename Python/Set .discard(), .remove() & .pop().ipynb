{
 "cells": [
  {
   "cell_type": "markdown",
   "metadata": {},
   "source": [
    "##### Challenge Link --> https://www.hackerrank.com/challenges/py-set-discard-remove-pop/problem"
   ]
  },
  {
   "cell_type": "code",
   "execution_count": null,
   "metadata": {},
   "outputs": [],
   "source": [
    "n = int(input())\n",
    "s = set(map(int, input().split()))\n",
    "l = int(input())\n",
    "for i in range(l):\n",
    "    p = input().split()\n",
    "    if p[0] == \"pop\":\n",
    "        s.pop()\n",
    "    if p[0] == \"remove\":\n",
    "        s.remove(int(p[-1]))\n",
    "    if p[0] == \"discard\":\n",
    "        s.discard(int(p[-1]))\n",
    "        \n",
    "print(sum(s))"
   ]
  }
 ],
 "metadata": {
  "kernelspec": {
   "display_name": "Python 3",
   "language": "python",
   "name": "python3"
  },
  "language_info": {
   "codemirror_mode": {
    "name": "ipython",
    "version": 3
   },
   "file_extension": ".py",
   "mimetype": "text/x-python",
   "name": "python",
   "nbconvert_exporter": "python",
   "pygments_lexer": "ipython3",
   "version": "3.7.6"
  }
 },
 "nbformat": 4,
 "nbformat_minor": 4
}
