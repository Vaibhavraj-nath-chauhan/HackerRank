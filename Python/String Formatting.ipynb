{
 "cells": [
  {
   "cell_type": "markdown",
   "metadata": {},
   "source": [
    "##### Challenge Link -->    https://www.hackerrank.com/challenges/python-string-formatting/problem"
   ]
  },
  {
   "cell_type": "code",
   "execution_count": null,
   "metadata": {},
   "outputs": [],
   "source": [
    "def print_formatted(number):\n",
    "    li = len(bin(number)[2:])\n",
    "    for i in range(1 ,number+1):\n",
    "        n_oct = oct(i).split('o')[-1]\n",
    "        n_hex = hex(i).split('x')[-1].upper()\n",
    "        n_bin = bin(i).split('b')[-1]\n",
    "        print(str(i).rjust(li,\" \"),n_oct.rjust(li,\" \"),n_hex.rjust(li,\" \"),n_bin.rjust(li,\" \"))\n",
    "if __name__ == '__main__':\n",
    "    n = int(input())\n",
    "    print_formatted(n)"
   ]
  }
 ],
 "metadata": {
  "kernelspec": {
   "display_name": "Python 3",
   "language": "python",
   "name": "python3"
  },
  "language_info": {
   "codemirror_mode": {
    "name": "ipython",
    "version": 3
   },
   "file_extension": ".py",
   "mimetype": "text/x-python",
   "name": "python",
   "nbconvert_exporter": "python",
   "pygments_lexer": "ipython3",
   "version": "3.7.6"
  }
 },
 "nbformat": 4,
 "nbformat_minor": 4
}
