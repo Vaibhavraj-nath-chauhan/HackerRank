{
 "cells": [
  {
   "cell_type": "markdown",
   "metadata": {},
   "source": [
    "##### Challenge Link -->https://www.hackerrank.com/domains/python?filters%5Bsubdomains%5D%5B%5D=py-regex"
   ]
  },
  {
   "cell_type": "code",
   "execution_count": null,
   "metadata": {},
   "outputs": [],
   "source": [
    "N = int(input())\n",
    "for i in range(N):\n",
    "    id_ = set(input())\n",
    "    if len(id_) == 10:\n",
    "        num = 0\n",
    "        char =0\n",
    "        for i in list(id_):\n",
    "            if i.isdigit():\n",
    "                num +=1\n",
    "                if num == 3:\n",
    "                    break\n",
    "        for i in list(id_):\n",
    "            if i.isupper():\n",
    "                char +=1\n",
    "                if char == 2:\n",
    "                    break\n",
    "        if char ==2 and num==3:\n",
    "            print(\"Valid\")\n",
    "        else:\n",
    "            print(\"Invaild\")\n",
    "    else:\n",
    "        print(\"Invalid\")"
   ]
  }
 ],
 "metadata": {
  "kernelspec": {
   "display_name": "Python 3",
   "language": "python",
   "name": "python3"
  },
  "language_info": {
   "codemirror_mode": {
    "name": "ipython",
    "version": 3
   },
   "file_extension": ".py",
   "mimetype": "text/x-python",
   "name": "python",
   "nbconvert_exporter": "python",
   "pygments_lexer": "ipython3",
   "version": "3.7.6"
  }
 },
 "nbformat": 4,
 "nbformat_minor": 4
}
