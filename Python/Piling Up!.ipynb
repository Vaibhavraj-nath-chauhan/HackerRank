{
 "cells": [
  {
   "cell_type": "markdown",
   "metadata": {},
   "source": [
    "##### Challenge Link -->                    https://www.hackerrank.com/challenges/piling-up/problem"
   ]
  },
  {
   "cell_type": "code",
   "execution_count": null,
   "metadata": {},
   "outputs": [],
   "source": [
    "for T in range(int(input())):\n",
    "    total_lenght = int(input()) -1                                 #we are subtracting -1 to run for loop\n",
    "    given_sides = list(map(int,input().split()))                   #taking input\n",
    "    i = 0                                                          #initilizing i to zero for loop\n",
    "    while i < total_lenght and given_sides[i]>=given_sides[i+1]:   #we are running the loop and according to question...\n",
    "        #...till the point where we get digit larger than pervious one we will terminate that loop\n",
    "        i += 1                    # incresing the variable this will help to run loop and also helps in next step\n",
    "    while i<total_lenght and given_sides[i]<=given_sides[i+1]:   #now we are running the loop for next remeaning terms...\n",
    "        #...we are checking given size is less than next value if yes we will increase our i variable \n",
    "        i+=1      \n",
    "    if i == total_lenght:   #checking the condition we our varibale i runs till our loop then it will be same as  our totla lenth\n",
    "        print(\"Yes\")\n",
    "    else:\n",
    "        print(\"No\")"
   ]
  }
 ],
 "metadata": {
  "kernelspec": {
   "display_name": "Python 3",
   "language": "python",
   "name": "python3"
  }
 },
 "nbformat": 4,
 "nbformat_minor": 4
}
