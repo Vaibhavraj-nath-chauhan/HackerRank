{
 "cells": [
  {
   "cell_type": "markdown",
   "metadata": {},
   "source": [
    "##### Challenge Link -->     https://www.hackerrank.com/challenges/ginorts/problem"
   ]
  },
  {
   "cell_type": "code",
   "execution_count": null,
   "metadata": {},
   "outputs": [],
   "source": [
    "def arrange(n):\n",
    "    output = {\"low\":\"\",\n",
    "            \"cap\":\"\", \n",
    "             \"odd\":\"\",\n",
    "             \"even\":\"\"}\n",
    "    for i in n:\n",
    "        if i.isupper():\n",
    "            output[\"cap\"] +=i\n",
    "        elif i.islower():\n",
    "            output[\"low\"] +=i\n",
    "        elif i.isdigit():\n",
    "            if int(i)%2 ==0:\n",
    "                output[\"even\"] +=i\n",
    "            else:\n",
    "                output[\"odd\"] +=i\n",
    "    n =\"\"\n",
    "    for i in output.keys():\n",
    "        n += \"\".join(sorted(output[i]))\n",
    "    print(n)\n",
    "    \n",
    "n = input()\n",
    "arrange(n)\n",
    "        "
   ]
  }
 ],
 "metadata": {
  "kernelspec": {
   "display_name": "Python 3",
   "language": "python",
   "name": "python3"
  },
  "language_info": {
   "codemirror_mode": {
    "name": "ipython",
    "version": 3
   },
   "file_extension": ".py",
   "mimetype": "text/x-python",
   "name": "python",
   "nbconvert_exporter": "python",
   "pygments_lexer": "ipython3",
   "version": "3.7.6"
  }
 },
 "nbformat": 4,
 "nbformat_minor": 4
}
