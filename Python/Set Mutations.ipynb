{
 "cells": [
  {
   "cell_type": "markdown",
   "metadata": {},
   "source": [
    "##### Challenge Link -->https://www.hackerrank.com/challenges/py-set-mutations/problem"
   ]
  },
  {
   "cell_type": "code",
   "execution_count": null,
   "metadata": {},
   "outputs": [],
   "source": [
    "A = input()\n",
    "A = set(map(int,input().split()))\n",
    "for i in range(int(input())):\n",
    "    k = input().split()\n",
    "    if k[0] == \"intersection_update\":\n",
    "        a = set(map(int,input().split()))\n",
    "        A.intersection_update(a)\n",
    "    elif k[0] == \"update\":\n",
    "        a = set(map(int,input().split()))\n",
    "        A.update(a)\n",
    "    elif k[0] == \"symmetric_difference_update\":\n",
    "        a = set(map(int,input().split()))\n",
    "        A.symmetric_difference_update(a)\n",
    "    else:\n",
    "        a = set(map(int,input().split()))\n",
    "        A.difference_update(a)\n",
    "    set(A)\n",
    "        \n",
    "print(sum(A))"
   ]
  }
 ],
 "metadata": {
  "kernelspec": {
   "display_name": "Python 3",
   "language": "python",
   "name": "python3"
  },
  "language_info": {
   "codemirror_mode": {
    "name": "ipython",
    "version": 3
   },
   "file_extension": ".py",
   "mimetype": "text/x-python",
   "name": "python",
   "nbconvert_exporter": "python",
   "pygments_lexer": "ipython3",
   "version": "3.7.6"
  }
 },
 "nbformat": 4,
 "nbformat_minor": 4
}
