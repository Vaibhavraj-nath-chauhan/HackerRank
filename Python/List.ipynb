{
 "cells": [
  {
   "cell_type": "markdown",
   "metadata": {},
   "source": [
    "##### Challenge Link --> https://www.hackerrank.com/challenges/python-lists/problem"
   ]
  },
  {
   "cell_type": "code",
   "execution_count": null,
   "metadata": {},
   "outputs": [],
   "source": [
    "if __name__ == '__main__':\n",
    "    N = int(input())\n",
    "    Output = []\n",
    "    for i in range(N):\n",
    "        ip = input().split()\n",
    "        if ip[0] == \"print\":\n",
    "            print(Output)\n",
    "        elif ip[0] == \"insert\":\n",
    "            Output.insert(int(ip[1]),int(ip[2]))\n",
    "        elif ip[0] == \"remove\":\n",
    "            Output.remove(int(ip[1]))\n",
    "        elif ip[0] == \"pop\":\n",
    "            Output.pop()\n",
    "        elif ip[0] == \"append\":\n",
    "            Output.append(int(ip[1]))\n",
    "        elif ip[0] == \"sort\":\n",
    "            Output.sort()\n",
    "        else:\n",
    "            Output.reverse()"
   ]
  }
 ],
 "metadata": {
  "kernelspec": {
   "display_name": "Python 3",
   "language": "python",
   "name": "python3"
  },
  "language_info": {
   "codemirror_mode": {
    "name": "ipython",
    "version": 3
   },
   "file_extension": ".py",
   "mimetype": "text/x-python",
   "name": "python",
   "nbconvert_exporter": "python",
   "pygments_lexer": "ipython3",
   "version": "3.7.6"
  }
 },
 "nbformat": 4,
 "nbformat_minor": 4
}
