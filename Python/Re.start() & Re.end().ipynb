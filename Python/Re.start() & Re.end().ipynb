{
 "cells": [
  {
   "cell_type": "markdown",
   "metadata": {},
   "source": [
    "##### Challenge Link -->                      https://www.hackerrank.com/challenges/re-start-re-end/problem"
   ]
  },
  {
   "cell_type": "code",
   "execution_count": null,
   "metadata": {},
   "outputs": [],
   "source": [
    "import re\n",
    "main_S= input()\n",
    "match = re.compile(input())                   #compling our substring as a pattern\n",
    "values = match.search(main_S)                 #searching our pattern in our main string\n",
    "if not values:                                #if not found we will print (-1,-1)\n",
    "    print(\"(-1, -1)\")\n",
    "while values:                                 #this loop will play else part\n",
    "    start = values.start()                    #taking our start value\n",
    "    end = values.end()-1                      #taking end value we are doing -1 because it return a range part and we need only value\n",
    "    print(f\"({start}, {end})\")                #printing our values\n",
    "    values = match.search(main_S, values.start() + 1)  #again searching for our value if found then it will print else loop will end\n",
    "                                #^^^ here we are giving position where to start search"
   ]
  }
 ],
 "metadata": {
  "kernelspec": {
   "display_name": "Python 3",
   "language": "python",
   "name": "python3"
  },
  "language_info": {
   "codemirror_mode": {
    "name": "ipython",
    "version": 3
   },
   "file_extension": ".py",
   "mimetype": "text/x-python",
   "name": "python",
   "nbconvert_exporter": "python",
   "pygments_lexer": "ipython3",
   "version": "3.7.6"
  }
 },
 "nbformat": 4,
 "nbformat_minor": 4
}
