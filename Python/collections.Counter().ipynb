{
 "cells": [
  {
   "cell_type": "markdown",
   "metadata": {},
   "source": [
    "##### Challenge Link -->     https://www.hackerrank.com/challenges/collections-counter/problem"
   ]
  },
  {
   "cell_type": "code",
   "execution_count": null,
   "metadata": {},
   "outputs": [],
   "source": [
    "from collections import Counter\n",
    "num = int(input())\n",
    "size = list(map(int,input().split()))\n",
    "costumer = int(input())\n",
    "dic =  Counter(size)\n",
    "su = 0\n",
    "for i in range(costumer):\n",
    "    n = list(map(int,input().split()))\n",
    "    if n[0] in dic.keys():\n",
    "        if dic[n[0]] !=0:\n",
    "            su +=n[-1]\n",
    "            dic[n[0]] = dic[n[0]]-1\n",
    "print(su)"
   ]
  }
 ],
 "metadata": {
  "kernelspec": {
   "display_name": "Python 3",
   "language": "python",
   "name": "python3"
  },
  "language_info": {
   "codemirror_mode": {
    "name": "ipython",
    "version": 3
   },
   "file_extension": ".py",
   "mimetype": "text/x-python",
   "name": "python",
   "nbconvert_exporter": "python",
   "pygments_lexer": "ipython3",
   "version": "3.7.6"
  }
 },
 "nbformat": 4,
 "nbformat_minor": 4
}
