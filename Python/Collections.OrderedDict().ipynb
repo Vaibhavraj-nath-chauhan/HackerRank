{
 "cells": [
  {
   "cell_type": "markdown",
   "metadata": {},
   "source": [
    "##### Challenge Link -->       https://www.hackerrank.com/challenges/py-collections-ordereddict/problem"
   ]
  },
  {
   "cell_type": "code",
   "execution_count": null,
   "metadata": {},
   "outputs": [],
   "source": [
    "dic,i = {},int(input())\n",
    "for _ in range(i):\n",
    "    new = input().split()\n",
    "    item_price = new[-1]\n",
    "    item = \" \".join(new[:-1])\n",
    "    if dic.get(item):\n",
    "        dic[item] += int(item_price)\n",
    "    else:\n",
    "        dic[item] = int(item_price)\n",
    "[print(k,v) for k,v in dic.items()]"
   ]
  }
 ],
 "metadata": {
  "kernelspec": {
   "display_name": "Python 3",
   "language": "python",
   "name": "python3"
  },
  "language_info": {
   "codemirror_mode": {
    "name": "ipython",
    "version": 3
   },
   "file_extension": ".py",
   "mimetype": "text/x-python",
   "name": "python",
   "nbconvert_exporter": "python",
   "pygments_lexer": "ipython3",
   "version": "3.7.6"
  }
 },
 "nbformat": 4,
 "nbformat_minor": 4
}
