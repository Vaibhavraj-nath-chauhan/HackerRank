{
 "cells": [
  {
   "cell_type": "markdown",
   "metadata": {},
   "source": [
    "##### Challenge Link -->  https://www.hackerrank.com/challenges/np-array-mathematics/problem"
   ]
  },
  {
   "cell_type": "code",
   "execution_count": null,
   "metadata": {},
   "outputs": [],
   "source": [
    "import numpy \n",
    "N,M = list(map(int,input().split()))\n",
    "data_1 = []\n",
    "data_2 =[]\n",
    "[data_1.append(list(map(int,input().split()))) for i in range(N)]\n",
    "[data_2.append(list(map(int,input().split()))) for i in range(N)]\n",
    "data_1 = numpy.array(data_1)\n",
    "data_2 = numpy.array(data_2)\n",
    "print(data_1+data_2)\n",
    "print(data_1-data_2)\n",
    "print(data_1*data_2)\n",
    "print(numpy.array(numpy.divide(data_1,data_2),dtype=int))\n",
    "print(data_1%data_2)\n",
    "print(data_1**data_2)"
   ]
  }
 ],
 "metadata": {
  "kernelspec": {
   "display_name": "Python 3",
   "language": "python",
   "name": "python3"
  },
  "language_info": {
   "codemirror_mode": {
    "name": "ipython",
    "version": 3
   },
   "file_extension": ".py",
   "mimetype": "text/x-python",
   "name": "python",
   "nbconvert_exporter": "python",
   "pygments_lexer": "ipython3",
   "version": "3.7.6"
  }
 },
 "nbformat": 4,
 "nbformat_minor": 4
}
