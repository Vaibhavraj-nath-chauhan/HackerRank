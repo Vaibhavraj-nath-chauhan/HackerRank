{
 "cells": [
  {
   "cell_type": "markdown",
   "metadata": {},
   "source": [
    "##### Challenge Link -->       https://www.hackerrank.com/challenges/py-collections-deque/problem"
   ]
  },
  {
   "cell_type": "code",
   "execution_count": null,
   "metadata": {},
   "outputs": [],
   "source": [
    "from collections import deque\n",
    "N , d = int(input()),deque()\n",
    "for _ in range(N):\n",
    "    task = input().split()\n",
    "    if task[0]==\"append\":\n",
    "        number = int(task[1])\n",
    "        d.append(number)\n",
    "    elif task[0]  == \"appendleft\":\n",
    "        number = int(task[1])\n",
    "        d.appendleft(number)\n",
    "    elif task[0]  == 'pop':\n",
    "        d.pop()\n",
    "    elif task[0]  == 'popleft':\n",
    "        d.popleft()\n",
    "print(*d)"
   ]
  }
 ],
 "metadata": {
  "kernelspec": {
   "display_name": "Python 3",
   "language": "python",
   "name": "python3"
  },
  "language_info": {
   "codemirror_mode": {
    "name": "ipython",
    "version": 3
   },
   "file_extension": ".py",
   "mimetype": "text/x-python",
   "name": "python",
   "nbconvert_exporter": "python",
   "pygments_lexer": "ipython3",
   "version": "3.7.6"
  }
 },
 "nbformat": 4,
 "nbformat_minor": 4
}
