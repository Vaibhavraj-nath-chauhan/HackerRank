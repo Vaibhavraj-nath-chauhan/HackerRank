{
 "cells": [
  {
   "cell_type": "markdown",
   "metadata": {},
   "source": [
    "##### Challenge Link -->         https://www.hackerrank.com/challenges/exceptions/problem"
   ]
  },
  {
   "cell_type": "code",
   "execution_count": null,
   "metadata": {},
   "outputs": [],
   "source": [
    "T = int(input())\n",
    "for _ in range(T):\n",
    "    try:\n",
    "        new = list(map(int,input().split()))\n",
    "        print(int(new[0]/new[-1]))\n",
    "    except ZeroDivisionError as e:\n",
    "        print(\"Error Code:\",\"integer division or modulo by zero\")\n",
    "    except  ValueError as e:\n",
    "        print(\"Error Code:\",e)"
   ]
  }
 ],
 "metadata": {
  "kernelspec": {
   "display_name": "Python 3",
   "language": "python",
   "name": "python3"
  },
  "language_info": {
   "codemirror_mode": {
    "name": "ipython",
    "version": 3
   },
   "file_extension": ".py",
   "mimetype": "text/x-python",
   "name": "python",
   "nbconvert_exporter": "python",
   "pygments_lexer": "ipython3",
   "version": "3.7.6"
  }
 },
 "nbformat": 4,
 "nbformat_minor": 4
}
