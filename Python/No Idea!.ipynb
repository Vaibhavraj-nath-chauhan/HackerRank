{
 "cells": [
  {
   "cell_type": "markdown",
   "metadata": {},
   "source": [
    "##### Challenge Link --> https://www.hackerrank.com/challenges/no-idea/problem"
   ]
  },
  {
   "cell_type": "code",
   "execution_count": null,
   "metadata": {},
   "outputs": [],
   "source": [
    "n, m = (int(i) for i in input().split())\n",
    "l = map(int, input().strip().split(' '))\n",
    "a = set(map(int, input().strip().split(' ')))\n",
    "b = set(map(int, input().strip().split(' ')))\n",
    "result = 0\n",
    "for i in l:\n",
    "    if i in a:\n",
    "        result += 1\n",
    "    if i in b:\n",
    "        result -= 1\n",
    "print(result)"
   ]
  }
 ],
 "metadata": {
  "kernelspec": {
   "display_name": "Python 3",
   "language": "python",
   "name": "python3"
  },
  "language_info": {
   "codemirror_mode": {
    "name": "ipython",
    "version": 3
   },
   "file_extension": ".py",
   "mimetype": "text/x-python",
   "name": "python",
   "nbconvert_exporter": "python",
   "pygments_lexer": "ipython3",
   "version": "3.7.6"
  }
 },
 "nbformat": 4,
 "nbformat_minor": 4
}
