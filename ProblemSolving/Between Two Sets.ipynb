{
 "cells": [
  {
   "cell_type": "code",
   "execution_count": null,
   "metadata": {},
   "outputs": [],
   "source": [
    "# a -->list, b --> list \n",
    "\n",
    "def between_tow_sets(a,b)\n",
    "    k = []\n",
    "    for i in range(a[-1],b[0]+1):\n",
    "        count = 0\n",
    "        for j in a:\n",
    "            if i%j==0 :\n",
    "                count+=1\n",
    "            if count ==len(a):\n",
    "                k.append(i)\n",
    "\n",
    "    n = 0\n",
    "    for j in k:\n",
    "        count = 0\n",
    "        for i in b:\n",
    "            if i%j==0:\n",
    "                count+=1\n",
    "            if count == len(b):\n",
    "                n+=1\n",
    "    return n         "
   ]
  }
 ],
 "metadata": {
  "kernelspec": {
   "display_name": "Python 3",
   "language": "python",
   "name": "python3"
  },
  "language_info": {
   "codemirror_mode": {
    "name": "ipython",
    "version": 3
   },
   "file_extension": ".py",
   "mimetype": "text/x-python",
   "name": "python",
   "nbconvert_exporter": "python",
   "pygments_lexer": "ipython3",
   "version": "3.7.6"
  }
 },
 "nbformat": 4,
 "nbformat_minor": 4
}
