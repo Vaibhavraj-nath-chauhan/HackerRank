{
 "cells": [
  {
   "cell_type": "markdown",
   "metadata": {},
   "source": [
    "##### Challenge Link -->  https://www.hackerrank.com/challenges/append-and-delete/problem"
   ]
  },
  {
   "cell_type": "code",
   "execution_count": 56,
   "metadata": {},
   "outputs": [],
   "source": [
    "#s: the initial string\n",
    "#t: the desired string\n",
    "#k: an integer that represents the number of operations\n",
    "\n",
    "\n",
    "def appendAndDelete(s, t, k):\n",
    "    count = 0\n",
    "    sum_ = 0\n",
    "    if len(s) >=len(t):\n",
    "        \n",
    "        for i in range(len(t)):\n",
    "            if s[i] == t[i]:\n",
    "                count+=1\n",
    "            else:\n",
    "                break\n",
    "        \n",
    "    elif len(s) < len(t):\n",
    "        for i in range(len(s)):\n",
    "            if s[i] == t[i]:\n",
    "                count+=1\n",
    "            else:\n",
    "                break\n",
    "    sum_ = (len(s)-count)+(len(t)-count)\n",
    "    if sum_<=k and (k - sum_) % 2 == 0 :\n",
    "        return \"Yes\"\n",
    "    else:\n",
    "        return \"No\""
   ]
  },
  {
   "cell_type": "markdown",
   "metadata": {},
   "source": [
    "###### Test Case"
   ]
  },
  {
   "cell_type": "code",
   "execution_count": 57,
   "metadata": {},
   "outputs": [
    {
     "data": {
      "text/plain": [
       "'No'"
      ]
     },
     "execution_count": 57,
     "metadata": {},
     "output_type": "execute_result"
    }
   ],
   "source": [
    "s = \"qwerasdf\"\n",
    "t = \"qwerbsdf\"\n",
    "k = 6\n",
    "appendAndDelete(s, t, k)"
   ]
  }
 ],
 "metadata": {
  "kernelspec": {
   "display_name": "Python 3",
   "language": "python",
   "name": "python3"
  },
  "language_info": {
   "codemirror_mode": {
    "name": "ipython",
    "version": 3
   },
   "file_extension": ".py",
   "mimetype": "text/x-python",
   "name": "python",
   "nbconvert_exporter": "python",
   "pygments_lexer": "ipython3",
   "version": "3.7.6"
  }
 },
 "nbformat": 4,
 "nbformat_minor": 4
}
