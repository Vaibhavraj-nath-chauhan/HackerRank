{
 "cells": [
  {
   "cell_type": "markdown",
   "metadata": {},
   "source": [
    "##### Challenge Link -->  https://www.hackerrank.com/challenges/beautiful-days-at-the-movies/problem?h_r=next-challenge&h_v=zen&h_r=next-challenge&h_v=zen"
   ]
  },
  {
   "cell_type": "code",
   "execution_count": null,
   "metadata": {},
   "outputs": [],
   "source": [
    "# i - range 1\n",
    "# j - range 2\n",
    "# k - intiger to check question conditon\n",
    "def beautifulDays(i, j, k):\n",
    "    count = 0\n",
    "    for n in range(i,j+1):\n",
    "        p = n - int(str(n)[::-1])\n",
    "        if p%k == 0:\n",
    "            count+=1\n",
    "    return count\n",
    "        \n",
    "    \n",
    "\n",
    "i = 20\n",
    "j = 23\n",
    "k = 6\n",
    "beautifulDays(i, j, k)"
   ]
  }
 ],
 "metadata": {
  "kernelspec": {
   "display_name": "Python 3",
   "language": "python",
   "name": "python3"
  },
  "language_info": {
   "codemirror_mode": {
    "name": "ipython",
    "version": 3
   },
   "file_extension": ".py",
   "mimetype": "text/x-python",
   "name": "python",
   "nbconvert_exporter": "python",
   "pygments_lexer": "ipython3",
   "version": "3.7.6"
  }
 },
 "nbformat": 4,
 "nbformat_minor": 4
}
