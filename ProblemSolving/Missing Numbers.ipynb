{
 "cells": [
  {
   "cell_type": "markdown",
   "metadata": {},
   "source": [
    "##### Challenge Link --> https://www.hackerrank.com/challenges/missing-numbers/problem"
   ]
  },
  {
   "cell_type": "code",
   "execution_count": null,
   "metadata": {},
   "outputs": [],
   "source": [
    "#arr: the array with missing numbers\n",
    "#brr: the original array of numbers\n",
    "\n",
    "def missingNumbers(arr, brr):\n",
    "    lis = []\n",
    "    for i in brr:\n",
    "        c1 = arr.count(i)\n",
    "        c2 = brr.count(i)\n",
    "        if c2-c1 != 0:\n",
    "            lis.append(i)\n",
    "    return sorted(list(set(lis)))"
   ]
  },
  {
   "cell_type": "markdown",
   "metadata": {},
   "source": [
    "###### Test Case"
   ]
  },
  {
   "cell_type": "code",
   "execution_count": null,
   "metadata": {},
   "outputs": [],
   "source": [
    "arr = [11, 4, 11, 7, 13, 4, 12, 11, 10, 14]\n",
    "brr = [11, 4, 11, 7 ,3 ,7 ,10 ,13, 4 ,8 ,12, 11, 10 ,14 ,12]\n",
    "missingNumbers(arr, brr)"
   ]
  }
 ],
 "metadata": {
  "kernelspec": {
   "display_name": "Python 3",
   "language": "python",
   "name": "python3"
  },
  "language_info": {
   "codemirror_mode": {
    "name": "ipython",
    "version": 3
   },
   "file_extension": ".py",
   "mimetype": "text/x-python",
   "name": "python",
   "nbconvert_exporter": "python",
   "pygments_lexer": "ipython3",
   "version": "3.7.6"
  }
 },
 "nbformat": 4,
 "nbformat_minor": 4
}
