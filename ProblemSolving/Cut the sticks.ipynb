{
 "cells": [
  {
   "cell_type": "markdown",
   "metadata": {},
   "source": [
    "##### Challenge Link -->  https://www.hackerrank.com/challenges/cut-the-sticks/problem"
   ]
  },
  {
   "cell_type": "code",
   "execution_count": null,
   "metadata": {},
   "outputs": [],
   "source": [
    "#p: inputed list\n",
    "\n",
    "def cutTheSticks(arr):\n",
    "    my_lis = [len(arr)]\n",
    "    while True:\n",
    "        try:\n",
    "            k = []\n",
    "            min_val = min(arr)\n",
    "            for i in range(len(arr)):\n",
    "                arr[i] = arr[i]-min_val\n",
    "            for i in arr:\n",
    "                if i !=0:\n",
    "                    k.append(i)\n",
    "            arr = k\n",
    "            my_lis.append(len(k))\n",
    "            if len(k)==1 or k == None:\n",
    "                break\n",
    "        except:\n",
    "            break\n",
    "    if my_lis[-1]==0:\n",
    "        my_lis.remove(0)\n",
    "    return my_lis          "
   ]
  },
  {
   "cell_type": "markdown",
   "metadata": {},
   "source": [
    "###### Test Case"
   ]
  },
  {
   "cell_type": "code",
   "execution_count": null,
   "metadata": {},
   "outputs": [],
   "source": [
    "arr= [8 ,8 ,14 ,10 ,3 ,5 ,14 ,12]\n",
    "cutTheSticks(arr)"
   ]
  }
 ],
 "metadata": {
  "kernelspec": {
   "display_name": "Python 3",
   "language": "python",
   "name": "python3"
  },
  "language_info": {
   "codemirror_mode": {
    "name": "ipython",
    "version": 3
   },
   "file_extension": ".py",
   "mimetype": "text/x-python",
   "name": "python",
   "nbconvert_exporter": "python",
   "pygments_lexer": "ipython3",
   "version": "3.7.6"
  }
 },
 "nbformat": 4,
 "nbformat_minor": 4
}
