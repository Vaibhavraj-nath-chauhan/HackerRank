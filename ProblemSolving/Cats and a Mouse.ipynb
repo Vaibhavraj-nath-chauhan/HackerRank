{
 "cells": [
  {
   "cell_type": "markdown",
   "metadata": {},
   "source": [
    "##### Challenge Link -->  https://www.hackerrank.com/challenges/cats-and-a-mouse/problem"
   ]
  },
  {
   "cell_type": "code",
   "execution_count": 1,
   "metadata": {},
   "outputs": [
    {
     "data": {
      "text/plain": [
       "'Cat B'"
      ]
     },
     "execution_count": 1,
     "metadata": {},
     "output_type": "execute_result"
    }
   ],
   "source": [
    "# x - int(Cat A)\n",
    "# y - int(Cat B)\n",
    "# z - int(Mouse C)\n",
    "\n",
    "\n",
    "def catAndMouse(x, y, z):\n",
    "    n = abs(x-z)\n",
    "    m = abs(y-z)\n",
    "    if m == n :\n",
    "        return \"Mouse C\"\n",
    "    elif n > m:\n",
    "        return \"Cat B\"\n",
    "    elif n < m:\n",
    "        return \"Cat A\"\n",
    "    \n",
    "catAndMouse(1,2,3)"
   ]
  }
 ],
 "metadata": {
  "kernelspec": {
   "display_name": "Python 3",
   "language": "python",
   "name": "python3"
  },
  "language_info": {
   "codemirror_mode": {
    "name": "ipython",
    "version": 3
   },
   "file_extension": ".py",
   "mimetype": "text/x-python",
   "name": "python",
   "nbconvert_exporter": "python",
   "pygments_lexer": "ipython3",
   "version": "3.7.6"
  }
 },
 "nbformat": 4,
 "nbformat_minor": 4
}
