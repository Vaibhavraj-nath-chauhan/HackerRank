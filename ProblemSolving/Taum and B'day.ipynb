{
 "cells": [
  {
   "cell_type": "markdown",
   "metadata": {},
   "source": [
    "##### Challenge Link --> https://www.hackerrank.com/challenges/taum-and-bday/problem"
   ]
  },
  {
   "cell_type": "code",
   "execution_count": null,
   "metadata": {},
   "outputs": [],
   "source": [
    "#\n",
    "#\n",
    "\n",
    "def taumBday(b, w, bc, wc, z):\n",
    "    if bc > wc+z:\n",
    "        gift = ((b+w)*wc) + (b*z)\n",
    "    elif wc > bc+z:\n",
    "        gift = ((b+w)*bc) + (w*z)\n",
    "    else:\n",
    "        gift = (b*bc) + (w*wc)\n",
    "    return gift"
   ]
  },
  {
   "cell_type": "markdown",
   "metadata": {},
   "source": [
    "###### Test Case"
   ]
  },
  {
   "cell_type": "code",
   "execution_count": null,
   "metadata": {},
   "outputs": [],
   "source": [
    "b = 3\n",
    "w = 3\n",
    "bc = 1\n",
    "wc = 9\n",
    "z = 2\n",
    "taumBday(b, w, bc, wc, z)"
   ]
  }
 ],
 "metadata": {
  "kernelspec": {
   "display_name": "Python 3",
   "language": "python",
   "name": "python3"
  },
  "language_info": {
   "codemirror_mode": {
    "name": "ipython",
    "version": 3
   },
   "file_extension": ".py",
   "mimetype": "text/x-python",
   "name": "python",
   "nbconvert_exporter": "python",
   "pygments_lexer": "ipython3",
   "version": "3.7.6"
  }
 },
 "nbformat": 4,
 "nbformat_minor": 4
}
