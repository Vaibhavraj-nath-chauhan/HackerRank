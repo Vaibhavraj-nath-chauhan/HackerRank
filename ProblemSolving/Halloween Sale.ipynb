{
 "cells": [
  {
   "cell_type": "markdown",
   "metadata": {},
   "source": [
    "##### Challenge Link --> https://www.hackerrank.com/challenges/halloween-sale/problem?h_r=next-challenge&h_v=zen"
   ]
  },
  {
   "cell_type": "code",
   "execution_count": null,
   "metadata": {},
   "outputs": [],
   "source": [
    "#p --> first game price\n",
    "#d --> discount\n",
    "#m --> limit\n",
    "#s --> total\n",
    "\n",
    "def howManyGames(p, d, m, s):\n",
    "    n = [p]\n",
    "    while True:\n",
    "        if sum(n) > s:\n",
    "            return len(n)-1\n",
    "        p -=d\n",
    "        if p>=m:\n",
    "            n.append(p)\n",
    "        else:\n",
    "            n.append(m)"
   ]
  },
  {
   "cell_type": "markdown",
   "metadata": {},
   "source": [
    "###### Test Case"
   ]
  },
  {
   "cell_type": "code",
   "execution_count": null,
   "metadata": {},
   "outputs": [],
   "source": [
    "p  =20\n",
    "d = 3\n",
    "m = 6\n",
    "s =85\n",
    "howManyGames(p, d, m, s)"
   ]
  }
 ],
 "metadata": {
  "kernelspec": {
   "display_name": "Python 3",
   "language": "python",
   "name": "python3"
  },
  "language_info": {
   "codemirror_mode": {
    "name": "ipython",
    "version": 3
   },
   "file_extension": ".py",
   "mimetype": "text/x-python",
   "name": "python",
   "nbconvert_exporter": "python",
   "pygments_lexer": "ipython3",
   "version": "3.7.6"
  }
 },
 "nbformat": 4,
 "nbformat_minor": 4
}
