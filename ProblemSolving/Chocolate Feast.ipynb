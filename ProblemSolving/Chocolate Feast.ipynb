{
 "cells": [
  {
   "cell_type": "markdown",
   "metadata": {},
   "source": [
    "##### Challenge Link --> https://www.hackerrank.com/challenges/chocolate-feast/problem?h_r=next-challenge&h_v=zen&h_r=next-challenge&h_v=zen&h_r=next-challenge&h_v=zen"
   ]
  },
  {
   "cell_type": "code",
   "execution_count": null,
   "metadata": {},
   "outputs": [],
   "source": [
    "#n: an integer representing Bobby's initial amount of money\n",
    "#c: an integer representing the cost of a chocolate bar\n",
    "#m: an integer representing the number of wrappers he can turn in for a free bar\n",
    "\n",
    "def chocolateFeast(n, c, m):\n",
    "    total = int(n/c)\n",
    "    curr = total\n",
    "    while curr>=m:\n",
    "            wap = curr//m\n",
    "            total = total + wap\n",
    "            curr = wap + (curr%m)\n",
    "    return total\n",
    "        \n"
   ]
  },
  {
   "cell_type": "markdown",
   "metadata": {},
   "source": [
    "###### Test Case"
   ]
  },
  {
   "cell_type": "code",
   "execution_count": null,
   "metadata": {},
   "outputs": [],
   "source": [
    "n = 16809\n",
    "c = 123\n",
    "m = 11668\n",
    "chocolateFeast(n, c, m)"
   ]
  }
 ],
 "metadata": {
  "kernelspec": {
   "display_name": "Python 3",
   "language": "python",
   "name": "python3"
  },
  "language_info": {
   "codemirror_mode": {
    "name": "ipython",
    "version": 3
   },
   "file_extension": ".py",
   "mimetype": "text/x-python",
   "name": "python",
   "nbconvert_exporter": "python",
   "pygments_lexer": "ipython3",
   "version": "3.7.6"
  }
 },
 "nbformat": 4,
 "nbformat_minor": 4
}
