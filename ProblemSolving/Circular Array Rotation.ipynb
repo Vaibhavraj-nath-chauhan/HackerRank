{
 "cells": [
  {
   "cell_type": "markdown",
   "metadata": {},
   "source": [
    "##### Challenge Link -->  https://www.hackerrank.com/challenges/circular-array-rotation/problem"
   ]
  },
  {
   "cell_type": "code",
   "execution_count": null,
   "metadata": {},
   "outputs": [],
   "source": [
    "#a: an array of integers to rotate\n",
    "#k: an integer, the rotation count\n",
    "#queries: an array of integers, the indices to report\n",
    "\n",
    "def circularArrayRotation(a, k, queries): \n",
    "    empty = []\n",
    "    for i in range(k):\n",
    "        a.insert(0,a.pop(-1))\n",
    "    for k in queries:\n",
    "        empty.append(a[k])\n",
    "    return empty"
   ]
  },
  {
   "cell_type": "markdown",
   "metadata": {},
   "source": [
    "###### Test Case"
   ]
  },
  {
   "cell_type": "code",
   "execution_count": null,
   "metadata": {},
   "outputs": [],
   "source": [
    "a =[1,2,3]\n",
    "k = 2\n",
    "queries = [0,1,2]\n",
    "circularArrayRotation(a,k,queries)"
   ]
  }
 ],
 "metadata": {
  "kernelspec": {
   "display_name": "Python 3",
   "language": "python",
   "name": "python3"
  },
  "language_info": {
   "codemirror_mode": {
    "name": "ipython",
    "version": 3
   },
   "file_extension": ".py",
   "mimetype": "text/x-python",
   "name": "python",
   "nbconvert_exporter": "python",
   "pygments_lexer": "ipython3",
   "version": "3.7.6"
  }
 },
 "nbformat": 4,
 "nbformat_minor": 4
}
