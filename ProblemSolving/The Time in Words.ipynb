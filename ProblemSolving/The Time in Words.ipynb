{
 "cells": [
  {
   "cell_type": "markdown",
   "metadata": {},
   "source": [
    "##### Challenge Link --> https://www.hackerrank.com/challenges/the-time-in-words/problem?h_r=next-challenge&h_v=zen&h_r=next-challenge&h_v=zen"
   ]
  },
  {
   "cell_type": "code",
   "execution_count": null,
   "metadata": {},
   "outputs": [],
   "source": [
    "#h: an integer representing hour of the day\n",
    "#m: an integer representing minutes after the hour\n",
    "\n",
    "def timeInWords(h, m):\n",
    "    mins = {\n",
    "        0:\"o' clock\",\n",
    "        1:\"one minute\",\n",
    "        2:\"two minutes\",\n",
    "        3:\"three minutes\",\n",
    "        4:\"four minutes\",\n",
    "        5:\"five minutes\",\n",
    "        6:\"six minutes\",\n",
    "        7:\"seven minutes\",\n",
    "        8:\"eight minutes\",\n",
    "        9:\"nine minutes\",\n",
    "        10:\"ten minutes\",\n",
    "        11:\"eleven minutes\",\n",
    "        12:\"twelve minutes\",\n",
    "        13:\"thirteen minutes\",\n",
    "        14:\"fourteen minutes\",\n",
    "        15:\"quarter\",\n",
    "        16:\"sixteen minutes\",\n",
    "        17:\"seventeen minutes\",\n",
    "        18:\"eighteen minutes\",\n",
    "        19:\"nineteen minutes\",\n",
    "        20:\"twenty minutes\",\n",
    "        21:\"twenty one minutes\",\n",
    "        22:\"twenty two minutes\",\n",
    "        23:\"twenty three minutes\",\n",
    "        24:\"twenty four minutes\",\n",
    "        25:\"twenty five minutes\",\n",
    "        26:\"twenty six minutes\",\n",
    "        27:\"twenty seven minutes\",\n",
    "        28:\"twenty eight minutes\",\n",
    "        29:\"twenty nine minutes\",\n",
    "        30:\"half\"\n",
    "    }\n",
    "\n",
    "    hours = {\n",
    "        1:\"one\",\n",
    "        2:\"two\",\n",
    "        3:\"three\",\n",
    "        4:\"four\",\n",
    "        5:\"five\",\n",
    "        6:\"six\",\n",
    "        7:\"seven\",\n",
    "        8:\"eight\",\n",
    "        9:\"nine\",\n",
    "        10:\"ten\",\n",
    "        11:\"eleven\",\n",
    "        12:\"twelve\",\n",
    "        13:\"one\"\n",
    "    }\n",
    "    if m ==0:\n",
    "        return hours[h]+\" \"+ mins[m]\n",
    "    elif m <= 30:\n",
    "        return mins[m] + \" past \"+hours[h]\n",
    "    elif m>30:\n",
    "        return mins[60-m]+ \" to \"+hours[h+1]"
   ]
  },
  {
   "cell_type": "markdown",
   "metadata": {},
   "source": [
    "###### Test Case"
   ]
  },
  {
   "cell_type": "code",
   "execution_count": null,
   "metadata": {},
   "outputs": [],
   "source": [
    "m = 31\n",
    "h = 7\n",
    "timeInWords(h, m)"
   ]
  }
 ],
 "metadata": {
  "kernelspec": {
   "display_name": "Python 3",
   "language": "python",
   "name": "python3"
  },
  "language_info": {
   "codemirror_mode": {
    "name": "ipython",
    "version": 3
   },
   "file_extension": ".py",
   "mimetype": "text/x-python",
   "name": "python",
   "nbconvert_exporter": "python",
   "pygments_lexer": "ipython3",
   "version": "3.7.6"
  }
 },
 "nbformat": 4,
 "nbformat_minor": 4
}
