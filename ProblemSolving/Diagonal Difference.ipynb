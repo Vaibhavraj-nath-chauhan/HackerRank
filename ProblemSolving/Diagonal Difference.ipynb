{
 "cells": [
  {
   "cell_type": "markdown",
   "metadata": {},
   "source": [
    "##### Challenge Link --> https://www.hackerrank.com/challenges/diagonal-difference/problem"
   ]
  },
  {
   "cell_type": "code",
   "execution_count": null,
   "metadata": {},
   "outputs": [],
   "source": [
    "#arr = list of elements \n",
    "\n",
    "def diagonalDifference(arr):\n",
    "    l = len(arr)\n",
    "    su = sum([arr[i][i] for i in range(l)])\n",
    "    no_su = sum(arr[l-1-i][i] for i in range(l-1,-1,-1))\n",
    "    return abs(su-no_su)   "
   ]
  },
  {
   "cell_type": "markdown",
   "metadata": {},
   "source": [
    "###### Test Case"
   ]
  },
  {
   "cell_type": "code",
   "execution_count": null,
   "metadata": {},
   "outputs": [],
   "source": [
    "arr = [[1, 2, 3],[4, 5 ,6],[9, 8, 9]]\n",
    "diagonalDifference(arr)"
   ]
  }
 ],
 "metadata": {
  "kernelspec": {
   "display_name": "Python 3",
   "language": "python",
   "name": "python3"
  },
  "language_info": {
   "codemirror_mode": {
    "name": "ipython",
    "version": 3
   },
   "file_extension": ".py",
   "mimetype": "text/x-python",
   "name": "python",
   "nbconvert_exporter": "python",
   "pygments_lexer": "ipython3",
   "version": "3.7.6"
  }
 },
 "nbformat": 4,
 "nbformat_minor": 4
}
